{
 "cells": [
  {
   "cell_type": "markdown",
   "metadata": {},
   "source": [
    "# Character-level Language Model\n",
    "### (CS231n: lecutre 8 - 44)"
   ]
  },
  {
   "cell_type": "code",
   "execution_count": 2,
   "metadata": {},
   "outputs": [],
   "source": [
    "import torch"
   ]
  },
  {
   "cell_type": "code",
   "execution_count": 3,
   "metadata": {},
   "outputs": [
    {
     "name": "stdout",
     "output_type": "stream",
     "text": [
      "tensor([[1., 0., 0., 0.],\n",
      "        [0., 1., 0., 0.],\n",
      "        [0., 0., 1., 0.],\n",
      "        [0., 0., 1., 0.],\n",
      "        [0., 0., 0., 1.]])\n"
     ]
    }
   ],
   "source": [
    "vocab = [\"h\", \"e\", \"l\", \"o\"]\n",
    "sequence = \"hello\"\n",
    "\n",
    "\n",
    "# tokenization(character-level)\n",
    "seq = list(sequence)                                                   # 문자열을 개별 문자로 분리\n",
    "\n",
    "\n",
    "# one-hot encoding\n",
    "encoding_list = []\n",
    "for i in range(len(seq)):\n",
    "    initial_encoding = [0] * len(vocab)                                        # 리스트 내부를 모두 0으로 채우기\n",
    "    for index, value in enumerate(vocab):                              # 인덱스와 인덱스에 해당하는 리스트 요소 가져오기\n",
    "        if(seq[i] == value):\n",
    "            initial_encoding[index] = 1\n",
    "            encoding_list.append(initial_encoding)\n",
    "\n",
    "encoding = torch.tensor(encoding_list, dtype = torch.float32)       # 리스트를 tensor로 변환\n",
    "\n",
    "print(encoding)"
   ]
  },
  {
   "cell_type": "code",
   "execution_count": 4,
   "metadata": {},
   "outputs": [],
   "source": [
    "import numpy as np"
   ]
  },
  {
   "cell_type": "code",
   "execution_count": 5,
   "metadata": {},
   "outputs": [
    {
     "name": "stdout",
     "output_type": "stream",
     "text": [
      "torch.Size([3, 3])\n",
      "torch.Size([4, 3])\n",
      "torch.Size([3, 4])\n",
      "torch.Size([1, 3])\n",
      "------------------------------------\n",
      "tensor([[ 0.4641, -0.8993, -1.1127],\n",
      "        [ 0.3929,  0.0815, -0.2904],\n",
      "        [-1.4883, -0.4337,  0.2624]])\n",
      "tensor([[ 2.6494,  0.3771,  0.8982],\n",
      "        [-0.1352, -0.1540,  1.0252],\n",
      "        [-0.7746, -1.1512,  1.7684],\n",
      "        [-0.6189,  0.8291, -0.1519]])\n",
      "tensor([[ 1.0680, -0.1814,  0.0662, -0.6984],\n",
      "        [ 0.2446, -0.9202,  0.0109, -1.6046],\n",
      "        [-0.8233, -0.6297,  0.5547, -2.7709]])\n",
      "tensor([[0., 0., 0.]])\n"
     ]
    }
   ],
   "source": [
    "# weight matrix 초기화\n",
    "W_hh = np.random.randn(3, 3)            # 크기가 3x3인 난수 행렬 생성 (정규분포)\n",
    "W_hh = torch.from_numpy(W_hh).float()   # numpy를 tensor로 변환(dtype을 지정안하면 float64)\n",
    "print(W_hh.shape)\n",
    "\n",
    "W_xh = np.random.randn(4, 3)\n",
    "W_xh = torch.from_numpy(W_xh).float()\n",
    "print(W_xh.shape)\n",
    "\n",
    "W_hy = np.random.randn(3, 4)\n",
    "W_hy = torch.from_numpy(W_hy).float()\n",
    "print(W_hy.shape)\n",
    "\n",
    "\n",
    "# initial hidden state 값을 0으로 설정\n",
    "h_0 = torch.zeros(1, 3)                 # tensor([[0., 0., 0.],\n",
    "                                              #   [0., 0., 0.],\n",
    "                                              #   [0., 0., 0.]])\n",
    "print(h_0.shape)\n",
    "\n",
    "\n",
    "# weight matrixs와 initial hidden state 값 확인\n",
    "print(\"------------------------------------\")\n",
    "print(W_hh)\n",
    "print(W_xh)\n",
    "print(W_hy)\n",
    "print(h_0)"
   ]
  },
  {
   "cell_type": "code",
   "execution_count": 6,
   "metadata": {},
   "outputs": [],
   "source": [
    "import torch.nn.functional as F"
   ]
  },
  {
   "cell_type": "code",
   "execution_count": 55,
   "metadata": {},
   "outputs": [
    {
     "name": "stdout",
     "output_type": "stream",
     "text": [
      "tensor([[0., 0., 0.]])\n",
      "torch.Size([1, 3])\n",
      "tensor([[1., 0., 0., 0.]])\n",
      "torch.Size([1, 4])\n",
      "------------------------------------\n",
      "tensor([[-0.8425, -0.3953, -1.2543]])\n",
      "torch.Size([1, 3])\n",
      "------------------------------------\n",
      "tensor([[-0.8425, -0.3953, -1.2543]])\n",
      "torch.Size([1, 3])\n",
      "------------------------------------\n",
      "tensor([[ 0.1810,  0.9755, -1.3063,  0.4868]])\n",
      "torch.Size([1, 4])\n",
      "tensor([[0.2085, 0.4614, 0.0471, 0.2830]])\n",
      "e\n"
     ]
    }
   ],
   "source": [
    "# <주의>\n",
    "# * 연산자는 요소별 곱셈을 수행함\n",
    "# torch.matmul() or @ 연산자가 행렬 곱셈을 수행함\n",
    "\n",
    "\n",
    "# # hidden state update를 어떻게 구현할지 생각할 용도의 코드\n",
    "# hidden_state = torch.matmul(h_0, W_hh)\n",
    "# print(hidden_state)\n",
    "# print(hidden_state.shape)\n",
    "\n",
    "# changed_encoding = encoding[0].view(1, 4)\n",
    "# print(changed_encoding)\n",
    "# print(changed_encoding.shape)\n",
    "\n",
    "# print(\"------------------------------------\")\n",
    "\n",
    "# x = torch.matmul(changed_encoding, W_xh)\n",
    "# print(x)\n",
    "# print(x.shape)\n",
    "\n",
    "# print(\"------------------------------------\")\n",
    "\n",
    "# updated_hidden_state = hidden_state + x\n",
    "# print(updated_hidden_state)\n",
    "# print(updated_hidden_state.shape)\n",
    "\n",
    "# print(\"------------------------------------\")\n",
    "\n",
    "# # output\n",
    "# logits = torch.matmul(updated_hidden_state, W_hy)\n",
    "# print(logits)\n",
    "# print(logits.shape)\n",
    "\n",
    "# y = F.softmax(logits, dim = 1)\n",
    "# print(y)\n",
    "\n",
    "# prediction_index = torch.argmax(y)\n",
    "# prediction = vocab[prediction_index]\n",
    "# print(prediction)"
   ]
  },
  {
   "cell_type": "code",
   "execution_count": 12,
   "metadata": {},
   "outputs": [
    {
     "name": "stdout",
     "output_type": "stream",
     "text": [
      "target sequence: hello\n",
      "prediction sequence: hholo"
     ]
    }
   ],
   "source": [
    "# teacher forcing으로 진행\n",
    "# (target word를 다음 hidden state의 입력으로 넣어주는 방식)\n",
    "\n",
    "hidden_state = h_0\n",
    "prediction_sequence = [seq[0]]\n",
    "\n",
    "for i in range(len(seq)-1):\n",
    "    h = torch.matmul(hidden_state, W_hh)\n",
    "\n",
    "    changed_encoding = encoding[i].view(1, 4)\n",
    "    x = torch.matmul(changed_encoding, W_xh)\n",
    "\n",
    "    updated_hidden_state = h + x\n",
    "    hidden_state = updated_hidden_state                 # hidden state 업데이트\n",
    "\n",
    "    logits = torch.matmul(updated_hidden_state, W_hy)\n",
    "    y = F.softmax(logits, dim = 1)                      # 해당 y값이 다음 입력값으로 들어가진 않음\n",
    "    prediction_index = torch.argmax(y)\n",
    "    prediction = vocab[prediction_index]\n",
    "    prediction_sequence.append(prediction)\n",
    "\n",
    "print(f'target sequence: hello')\n",
    "print('prediction sequence: ', end = '')\n",
    "for j in prediction_sequence:\n",
    "    print(j, end = '')\n",
    "    "
   ]
  }
 ],
 "metadata": {
  "kernelspec": {
   "display_name": "choModel",
   "language": "python",
   "name": "python3"
  },
  "language_info": {
   "codemirror_mode": {
    "name": "ipython",
    "version": 3
   },
   "file_extension": ".py",
   "mimetype": "text/x-python",
   "name": "python",
   "nbconvert_exporter": "python",
   "pygments_lexer": "ipython3",
   "version": "3.10.14"
  }
 },
 "nbformat": 4,
 "nbformat_minor": 2
}
